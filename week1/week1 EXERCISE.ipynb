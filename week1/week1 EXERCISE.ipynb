{
 "cells": [
  {
   "cell_type": "markdown",
   "id": "fe12c203-e6a6-452c-a655-afb8a03a4ff5",
   "metadata": {},
   "source": [
    "# End of week 1 exercise\n",
    "\n",
    "To demonstrate your familiarity with OpenAI API, and also Ollama, build a tool that takes a technical question,  \n",
    "and responds with an explanation. This is a tool that you will be able to use yourself during the course!"
   ]
  },
  {
   "cell_type": "code",
   "execution_count": 1,
   "id": "c1070317-3ed9-4659-abe3-828943230e03",
   "metadata": {},
   "outputs": [],
   "source": [
    "# imports\n",
    "\n",
    "import os\n",
    "import requests\n",
    "import json\n",
    "from typing import List\n",
    "from dotenv import load_dotenv\n",
    "from bs4 import BeautifulSoup\n",
    "from IPython.display import Markdown, display, update_display\n",
    "from openai import OpenAI"
   ]
  },
  {
   "cell_type": "code",
   "execution_count": 9,
   "id": "4a456906-915a-4bfd-bb9d-57e505c5093f",
   "metadata": {},
   "outputs": [
    {
     "name": "stdout",
     "output_type": "stream",
     "text": [
      "API key looks good so far\n"
     ]
    }
   ],
   "source": [
    "# constants\n",
    "# Initialize and constants\n",
    "\n",
    "load_dotenv(override=True)\n",
    "api_key = os.getenv('OPENAI_API_KEY')\n",
    "ollama_via_openai = OpenAI(base_url='http://localhost:11434/v1', api_key='ollama')\n",
    "if api_key and api_key.startswith('sk-proj-') and len(api_key)>10:\n",
    "    print(\"API key looks good so far\")\n",
    "else:\n",
    "    print(\"There might be a problem with your API key? Please visit the troubleshooting notebook!\")    \n",
    "\n",
    "openai = OpenAI()\n",
    "MODEL_GPT = 'gpt-4o-mini'\n",
    "MODEL_LLAMA = 'llama3.2'"
   ]
  },
  {
   "cell_type": "code",
   "execution_count": 10,
   "id": "a8d7923c-5f28-4c30-8556-342d7c8497c1",
   "metadata": {},
   "outputs": [],
   "source": [
    "# set up environment\n",
    "system_prompt = \"Você é um especialista de IA dedicado a explorar modelos e maneiras de ajudar a desenvolvedores a melhorarem seu trabalho no dia a dia\\\n",
    "não só para conhecerem mais do assunto, mas também para que aprendam a como usar a IA para o seu favor e não substituindo o trabalho, mas melhorando exponencialmente\\\n",
    "o seu resultado\\n\""
   ]
  },
  {
   "cell_type": "code",
   "execution_count": 17,
   "id": "3f0d0137-52b0-47a8-81a8-11a90a010798",
   "metadata": {},
   "outputs": [
    {
     "name": "stdin",
     "output_type": "stream",
     "text": [
      "Faça sua pergunta \n"
     ]
    },
    {
     "name": "stdout",
     "output_type": "stream",
     "text": [
      "Invalid question!\n"
     ]
    },
    {
     "name": "stdin",
     "output_type": "stream",
     "text": [
      "Faça sua pergunta Hello\n"
     ]
    },
    {
     "data": {
      "text/plain": [
       "'Hello'"
      ]
     },
     "execution_count": 17,
     "metadata": {},
     "output_type": "execute_result"
    }
   ],
   "source": [
    "# here is the question; type over this to ask something new\n",
    "def Question(): \n",
    "    validQuestion = False\n",
    "    while validQuestion == False:\n",
    "        my_question = input(\"Faça sua pergunta\")\n",
    "        if len(my_question) > 0:\n",
    "            validQuestion = True\n",
    "            return my_question\n",
    "        else:\n",
    "            validQuestion = False\n",
    "            print(\"Invalid question!\")\n",
    "        \n",
    "# question = \"\"\"\n",
    "# Explique e dê exemplos de quais são as melhores maneiras de se trabalhar com IA durante a codificação, eu gosto de usar o github copilot no vscode, \n",
    "# mas ele é pago, quais outras ferramentas eu posso usar para aumentar minha produtividade de maneira que eu trabalhe com a IA e não ela trabalhe por mim\\n\n",
    "# \"\"\"\n",
    "\n",
    "Question()"
   ]
  },
  {
   "cell_type": "code",
   "execution_count": 18,
   "id": "60ce7000-a4a5-4cce-a261-e75ef45063b4",
   "metadata": {},
   "outputs": [
    {
     "name": "stdin",
     "output_type": "stream",
     "text": [
      "Faça sua pergunta Explique e dê exemplos de quais são as melhores maneiras de se trabalhar com IA durante a codificação, eu gosto de usar o github copilot no vscode, mas ele é pago, quais outras ferramentas eu posso usar para aumentar minha produtividade no vscode de maneira que eu trabalhe com a IA e não ela trabalhe por mim\n"
     ]
    },
    {
     "data": {
      "text/markdown": [
       "É ótimo que você esteja interessado em usar a IA para aumentar sua produtividade durante a codificação! O GitHub Copilot é uma ferramenta poderosa, mas há várias alternativas e práticas que você pode adotar para aproveitar a IA enquanto mantém o controle sobre o seu trabalho. Aqui estão algumas sugestões e ferramentas que você pode considerar:\n",
       "\n",
       "### 1. **Integração de Assistentes de IA Gratuitos**\n",
       "\n",
       "#### **a. Tabnine**\n",
       "- **Descrição:** O Tabnine é um assistente de codificação baseado em IA que fornece sugestões de código conforme você digita. Ele se integra ao VSCode e pode ser usado gratuitamente com limitações.\n",
       "- **Como usar:** Instale a extensão Tabnine no VSCode e comece a codificar. Ele aprenderá com o seu estilo e fornecerá sugestões contextualizadas.\n",
       "\n",
       "#### **b. Kite**\n",
       "- **Descrição:** O Kite é um assistente de codificação que oferece autocompletar e exemplos de código. É especialmente útil para Python, mas suporta várias outras linguagens.\n",
       "- **Como usar:** Baixe o Kite e instale a extensão no VSCode para acesso a sugestões e documentação durante a codificação.\n",
       "\n",
       "### 2. **GPT-3 e Outras APIs de LLM (Modelos de Linguagem Grande)**\n",
       "- **Descrição:** Você pode utilizar APIs de IA como GPT-3 para gerar código, tirar dúvidas ou criar comentários. Embora isso possa exigir um pouco mais de configuração e may implicar custos, você pode ter acesso a um poderoso assistente na sua codificação.\n",
       "- **Como usar:** Configure uma API em um arquivo de script ou um plugin. Você pode construir funções personalizadas que chamam a API e obtêm respostas específicas enquanto programa.\n",
       "\n",
       "### 3. **Assistentes de Documentação**\n",
       "- **a. Dash ou Zeal**\n",
       "  - **Descrição:** Embora não sejam ferramentas de IA per se, o Dash (macOS) e o Zeal (Windows/Linux) são ferramentas que permitem acesso rápido à documentação de linguagens e bibliotecas, melhorando sua eficiência ao codificar.\n",
       "  - **Como usar:** Instale a documentação que você usa mais frequentemente e configure atajos no seu fluxo de trabalho.\n",
       "\n",
       "### 4. **Codificação Colaborativa**\n",
       "- **a. Live Share do VSCode**\n",
       "  - **Descrição:** O Live Share permite que você compartilhe seu ambiente de codificação com outras pessoas. Isso pode incluir programadores experientes que podem usar IA para revisar ou sugerir melhorias em seu código enquanto você trabalha.\n",
       "  - **Como usar:** Inicie uma sessão do Live Share no VSCode e convide um colega para colaboração.\n",
       "\n",
       "### 5. **Uso de Snippets e Templates**\n",
       "- **Descrição:** Crie ou utilize snippets de código para acelerar processos repetitivos. Embora não sejam necessariamente IA, essa prática pode economizar tempo considerável.\n",
       "- **Como usar:** Configure seus próprios snippets no VSCode ou busque extensões que oferecem snippets prontos.\n",
       "\n",
       "### 6. **Análise de Código com Ferramentas de Linter e Formatadores**\n",
       "- **Descrição:** Integrar linters (como ESLint para JavaScript) e formatadores (como Prettier) ao seu ambiente de codificação pode ajudar a manter a qualidade do código, evitando erros comuns.\n",
       "- **Como usar:** Adicione extensões apropriadas ao VSCode e configure-as de acordo com suas preferências.\n",
       "\n",
       "### 7. **Exploração de Código com Ferramentas de IA**\n",
       "- **a. Sourcegraph**\n",
       "  - **Descrição:** Uma plataforma que permite pesquisar e navegar pelo seu código usando a IA, ajudando a entender grandes bases de código e encontrar referências rapidamente.\n",
       "  - **Como usar:** Integre Sourcegraph ao seu repositório e use a interface para explorar seu código mais eficientemente.\n",
       "\n",
       "### Conclusão\n",
       "Usar IA como uma ferramenta que ampliará suas capacidades pode transformar seu fluxo de trabalho. Ao empregar algumas dessas sugestões e ferramentas, você pode continuar a ser o responsável por sua produção, enquanto aproveita a IA para eliminar tarefas repetitivas e otimizar seus resultados."
      ],
      "text/plain": [
       "<IPython.core.display.Markdown object>"
      ]
     },
     "metadata": {},
     "output_type": "display_data"
    }
   ],
   "source": [
    "# Get gpt-4o-mini to answer, with streaming\n",
    "def gpt_answer():\n",
    "    question = Question()\n",
    "    stream = openai.chat.completions.create(\n",
    "        model=MODEL_GPT,\n",
    "        messages=[\n",
    "            {\"role\": \"system\", \"content\": system_prompt},\n",
    "            {\"role\": \"user\", \"content\": question}\n",
    "        ],            \n",
    "        stream = True\n",
    "    )    \n",
    "    response = \"\"\n",
    "    display_handle = display(Markdown(\"\"), display_id=True)\n",
    "    for chunk in stream:\n",
    "        response += chunk.choices[0].delta.content or ''\n",
    "        response = response.replace(\"```\",\"\").replace(\"markdown\", \"\")\n",
    "        update_display(Markdown(response), display_id=display_handle.display_id)\n",
    "\n",
    "gpt_answer()"
   ]
  },
  {
   "cell_type": "code",
   "execution_count": 13,
   "id": "8f7c8ea8-4082-4ad0-8751-3301adcf6538",
   "metadata": {},
   "outputs": [
    {
     "data": {
      "text/markdown": [
       "**Trabalhando com IA na Codificação: Dicas e Ferramentas**\n",
       "\n",
       "Você está fazendo uma excelente escolha experimentando o GitHub Copilot no VSCode! Embora seja um serviço pago, há muitas outras ferramentas e estratégias que você pode usar para aumentar sua produtividade e trabalhar com a IA de forma eficaz. Aqui estão algumas dicas e exemplos:\n",
       "\n",
       "**1. Ferramentos de Code Complete**\n",
       "\n",
       "*   **Eslint**: uma ferramentea de codificação que ajuda a detectar erros e melhorias na código.\n",
       "*   **Prettier**: uma ferramentea para formatação automática de código.\n",
       "*   Estes são ferramentsas que podem ser usadas em conjunto com IA.\n",
       "\n",
       "\n",
       "**2. Ferramentas de Autocompletagem**\n",
       "\n",
       "*   **Autocompletar em Linguagens de Programação**: muitas linguagens de programação têm ferramentas integradas para autocompletar codificação.\n",
       "*   Exemplos: \n",
       "    *   Python - jupyter-notebook\n",
       "    *   JavaScript - Visual Studio Code\n",
       "*   Ferramentas como o Codecomplete do IntelliJ IDEA estão disponibles tanto gratuitamente quanto pagantes.\n",
       "\n",
       "**3. Ferramentas de Revisão de Código**\n",
       "\n",
       "*   **Git**: é uma ferramienta para gerenciar diferentes versões do código.\n",
       "*   **GitHub**: é uma plataforma que permite colaborar e revisar código com outros desenvolvedores.\n",
       "\n",
       "Aqui estão outras ferramentas que você pode usar para trabalhar com IA na codificação:\n",
       "\n",
       "**4. Ferrmenteas de AI**\n",
       "\n",
       "    * Python, R\n",
       "*   As primeiras linguagens de programação, o Python e R são muito usadas para treinamento automatizado por processos (AIP) como o ML em computação  a céu aberto"
      ],
      "text/plain": [
       "<IPython.core.display.Markdown object>"
      ]
     },
     "metadata": {},
     "output_type": "display_data"
    }
   ],
   "source": [
    "# Get Llama 3.2 to answer\n",
    "def llama_answer():    \n",
    "    response = ollama_via_openai.chat.completions.create(\n",
    "        model=MODEL_LLAMA,\n",
    "        messages=[\n",
    "            {\"role\": \"system\", \"content\": system_prompt},\n",
    "            {\"role\": \"user\", \"content\": question}\n",
    "          ],\n",
    "    )\n",
    "    result = response.choices[0].message.content\n",
    "    display(Markdown(result))\n",
    "\n",
    "llama_answer()"
   ]
  },
  {
   "cell_type": "code",
   "execution_count": null,
   "id": "13f287c2-4433-44e0-92bd-d50bb7274d07",
   "metadata": {},
   "outputs": [],
   "source": []
  }
 ],
 "metadata": {
  "kernelspec": {
   "display_name": "Python 3 (ipykernel)",
   "language": "python",
   "name": "python3"
  },
  "language_info": {
   "codemirror_mode": {
    "name": "ipython",
    "version": 3
   },
   "file_extension": ".py",
   "mimetype": "text/x-python",
   "name": "python",
   "nbconvert_exporter": "python",
   "pygments_lexer": "ipython3",
   "version": "3.11.13"
  }
 },
 "nbformat": 4,
 "nbformat_minor": 5
}
