{
 "cells": [
  {
   "cell_type": "markdown",
   "id": "ddfa9ae6-69fe-444a-b994-8c4c5970a7ec",
   "metadata": {},
   "source": [
    "# Project - Airline AI Assistant\n",
    "\n",
    "We'll now bring together what we've learned to make an AI Customer Support assistant for an Airline"
   ]
  },
  {
   "cell_type": "code",
   "execution_count": 1,
   "id": "8b50bbe2-c0b1-49c3-9a5c-1ba7efa2bcb4",
   "metadata": {},
   "outputs": [],
   "source": [
    "# imports\n",
    "\n",
    "import os\n",
    "import json\n",
    "from dotenv import load_dotenv\n",
    "from openai import OpenAI\n",
    "import gradio as gr"
   ]
  },
  {
   "cell_type": "code",
   "execution_count": 2,
   "id": "747e8786-9da8-4342-b6c9-f5f69c2e22ae",
   "metadata": {},
   "outputs": [
    {
     "name": "stdout",
     "output_type": "stream",
     "text": [
      "OpenAI API Key exists and begins sk-proj-\n"
     ]
    }
   ],
   "source": [
    "# Initialization\n",
    "\n",
    "load_dotenv(override=True)\n",
    "\n",
    "openai_api_key = os.getenv('OPENAI_API_KEY')\n",
    "if openai_api_key:\n",
    "    print(f\"OpenAI API Key exists and begins {openai_api_key[:8]}\")\n",
    "else:\n",
    "    print(\"OpenAI API Key not set\")\n",
    "    \n",
    "MODEL = \"gpt-4o-mini\"\n",
    "openai = OpenAI()"
   ]
  },
  {
   "cell_type": "code",
   "execution_count": 3,
   "id": "0a521d84-d07c-49ab-a0df-d6451499ed97",
   "metadata": {},
   "outputs": [],
   "source": [
    "system_message = \"You are a helpful assistant for an Airline called FlightAI. \"\n",
    "system_message += \"Give short, courteous answers, no more than 1 sentence. \"\n",
    "system_message += \"Always be accurate. If you don't know the answer, say so.\""
   ]
  },
  {
   "cell_type": "code",
   "execution_count": 4,
   "id": "61a2a15d-b559-4844-b377-6bd5cb4949f6",
   "metadata": {},
   "outputs": [
    {
     "name": "stdout",
     "output_type": "stream",
     "text": [
      "* Running on local URL:  http://127.0.0.1:7860\n",
      "* To create a public link, set `share=True` in `launch()`.\n"
     ]
    },
    {
     "data": {
      "text/html": [
       "<div><iframe src=\"http://127.0.0.1:7860/\" width=\"100%\" height=\"500\" allow=\"autoplay; camera; microphone; clipboard-read; clipboard-write;\" frameborder=\"0\" allowfullscreen></iframe></div>"
      ],
      "text/plain": [
       "<IPython.core.display.HTML object>"
      ]
     },
     "metadata": {},
     "output_type": "display_data"
    },
    {
     "data": {
      "text/plain": []
     },
     "execution_count": 4,
     "metadata": {},
     "output_type": "execute_result"
    }
   ],
   "source": [
    "# This function looks rather simpler than the one from my video, because we're taking advantage of the latest Gradio updates\n",
    "\n",
    "def chat(message, history):\n",
    "    messages = [{\"role\": \"system\", \"content\": system_message}] + history + [{\"role\": \"user\", \"content\": message}]\n",
    "    response = openai.chat.completions.create(model=MODEL, messages=messages)\n",
    "    return response.choices[0].message.content\n",
    "\n",
    "gr.ChatInterface(fn=chat, type=\"messages\").launch()"
   ]
  },
  {
   "cell_type": "markdown",
   "id": "36bedabf-a0a7-4985-ad8e-07ed6a55a3a4",
   "metadata": {},
   "source": [
    "## Tools\n",
    "\n",
    "Tools are an incredibly powerful feature provided by the frontier LLMs.\n",
    "\n",
    "With tools, you can write a function, and have the LLM call that function as part of its response.\n",
    "\n",
    "Sounds almost spooky.. we're giving it the power to run code on our machine?\n",
    "\n",
    "Well, kinda."
   ]
  },
  {
   "cell_type": "code",
   "execution_count": 5,
   "id": "0696acb1-0b05-4dc2-80d5-771be04f1fb2",
   "metadata": {},
   "outputs": [],
   "source": [
    "# Let's start by making a useful function\n",
    "\n",
    "ticket_prices = {\"london\": \"$799\", \"paris\": \"$899\", \"tokyo\": \"$1400\", \"berlin\": \"$499\"}\n",
    "\n",
    "def get_ticket_price(destination_city):\n",
    "    print(f\"Tool get_ticket_price called for {destination_city}\")\n",
    "    city = destination_city.lower()\n",
    "    return ticket_prices.get(city, \"Unknown\")"
   ]
  },
  {
   "cell_type": "code",
   "execution_count": 6,
   "id": "80ca4e09-6287-4d3f-997d-fa6afbcf6c85",
   "metadata": {},
   "outputs": [
    {
     "name": "stdout",
     "output_type": "stream",
     "text": [
      "Tool get_ticket_price called for London\n"
     ]
    },
    {
     "data": {
      "text/plain": [
       "'$799'"
      ]
     },
     "execution_count": 6,
     "metadata": {},
     "output_type": "execute_result"
    }
   ],
   "source": [
    "get_ticket_price(\"London\")"
   ]
  },
  {
   "cell_type": "code",
   "execution_count": 7,
   "id": "4afceded-7178-4c05-8fa6-9f2085e6a344",
   "metadata": {},
   "outputs": [],
   "source": [
    "# There's a particular dictionary structure that's required to describe our function:\n",
    "\n",
    "price_function = {\n",
    "    \"name\": \"get_ticket_price\",\n",
    "    \"description\": \"Get the price of a return ticket to the destination city. Call this whenever you need to know the ticket price, for example when a customer asks 'How much is a ticket to this city'\",\n",
    "    \"parameters\": {\n",
    "        \"type\": \"object\",\n",
    "        \"properties\": {\n",
    "            \"destination_city\": {\n",
    "                \"type\": \"string\",\n",
    "                \"description\": \"The city that the customer wants to travel to\",\n",
    "            },\n",
    "        },\n",
    "        \"required\": [\"destination_city\"],\n",
    "        \"additionalProperties\": False\n",
    "    }\n",
    "}"
   ]
  },
  {
   "cell_type": "code",
   "execution_count": 8,
   "id": "bdca8679-935f-4e7f-97e6-e71a4d4f228c",
   "metadata": {},
   "outputs": [],
   "source": [
    "# And this is included in a list of tools:\n",
    "\n",
    "tools = [{\"type\": \"function\", \"function\": price_function}]"
   ]
  },
  {
   "cell_type": "markdown",
   "id": "c3d3554f-b4e3-4ce7-af6f-68faa6dd2340",
   "metadata": {},
   "source": [
    "## Getting OpenAI to use our Tool\n",
    "\n",
    "There's some fiddly stuff to allow OpenAI \"to call our tool\"\n",
    "\n",
    "What we actually do is give the LLM the opportunity to inform us that it wants us to run the tool.\n",
    "\n",
    "Here's how the new chat function looks:"
   ]
  },
  {
   "cell_type": "code",
   "execution_count": 9,
   "id": "ce9b0744-9c78-408d-b9df-9f6fd9ed78cf",
   "metadata": {},
   "outputs": [],
   "source": [
    "def chat(message, history):\n",
    "    messages = [{\"role\": \"system\", \"content\": system_message}] + history + [{\"role\": \"user\", \"content\": message}]\n",
    "    response = openai.chat.completions.create(model=MODEL, messages=messages, tools=tools)\n",
    "\n",
    "    if response.choices[0].finish_reason==\"tool_calls\":\n",
    "        message = response.choices[0].message\n",
    "        response, city = handle_tool_call(message)\n",
    "        messages.append(message)\n",
    "        messages.append(response)\n",
    "        response = openai.chat.completions.create(model=MODEL, messages=messages)\n",
    "    \n",
    "    return response.choices[0].message.content"
   ]
  },
  {
   "cell_type": "code",
   "execution_count": 10,
   "id": "b0992986-ea09-4912-a076-8e5603ee631f",
   "metadata": {},
   "outputs": [],
   "source": [
    "# We have to write that function handle_tool_call:\n",
    "\n",
    "def handle_tool_call(message):\n",
    "    tool_call = message.tool_calls[0]\n",
    "    arguments = json.loads(tool_call.function.arguments)\n",
    "    city = arguments.get('destination_city')\n",
    "    price = get_ticket_price(city)\n",
    "    response = {\n",
    "        \"role\": \"tool\",\n",
    "        \"content\": json.dumps({\"destination_city\": city,\"price\": price}),\n",
    "        \"tool_call_id\": tool_call.id\n",
    "    }\n",
    "    return response, city"
   ]
  },
  {
   "cell_type": "code",
   "execution_count": 11,
   "id": "f4be8a71-b19e-4c2f-80df-f59ff2661f14",
   "metadata": {},
   "outputs": [
    {
     "name": "stdout",
     "output_type": "stream",
     "text": [
      "* Running on local URL:  http://127.0.0.1:7861\n",
      "* To create a public link, set `share=True` in `launch()`.\n"
     ]
    },
    {
     "data": {
      "text/html": [
       "<div><iframe src=\"http://127.0.0.1:7861/\" width=\"100%\" height=\"500\" allow=\"autoplay; camera; microphone; clipboard-read; clipboard-write;\" frameborder=\"0\" allowfullscreen></iframe></div>"
      ],
      "text/plain": [
       "<IPython.core.display.HTML object>"
      ]
     },
     "metadata": {},
     "output_type": "display_data"
    },
    {
     "data": {
      "text/plain": []
     },
     "execution_count": 11,
     "metadata": {},
     "output_type": "execute_result"
    },
    {
     "name": "stdout",
     "output_type": "stream",
     "text": [
      "Tool get_ticket_price called for London\n",
      "Tool get_ticket_price called for Paris\n"
     ]
    }
   ],
   "source": [
    "gr.ChatInterface(fn=chat, type=\"messages\").launch()"
   ]
  },
  {
   "cell_type": "markdown",
   "id": "473e5b39-da8f-4db1-83ae-dbaca2e9531e",
   "metadata": {},
   "source": [
    "# Let's go multi-modal!!\n",
    "\n",
    "We can use DALL-E-3, the image generation model behind GPT-4o, to make us some images\n",
    "\n",
    "Let's put this in a function called artist.\n",
    "\n",
    "### Price alert: each time I generate an image it costs about 4 cents - don't go crazy with images!"
   ]
  },
  {
   "cell_type": "code",
   "execution_count": 22,
   "id": "2c27c4ba-8ed5-492f-add1-02ce9c81d34c",
   "metadata": {},
   "outputs": [],
   "source": [
    "# Some imports for handling images\n",
    "\n",
    "import base64\n",
    "from io import BytesIO\n",
    "from PIL import Image"
   ]
  },
  {
   "cell_type": "code",
   "execution_count": 23,
   "id": "773a9f11-557e-43c9-ad50-56cbec3a0f8f",
   "metadata": {},
   "outputs": [],
   "source": [
    "def artist(city):\n",
    "    image_response = openai.images.generate(\n",
    "            model=\"dall-e-3\",\n",
    "            prompt=f\"An image representing a vacation in {city}, showing tourist spots and everything unique about {city}, in a vibrant pop-art style\",\n",
    "            size=\"1024x1024\",\n",
    "            n=1,\n",
    "            response_format=\"b64_json\",\n",
    "        )\n",
    "    image_base64 = image_response.data[0].b64_json\n",
    "    image_data = base64.b64decode(image_base64)\n",
    "    return Image.open(BytesIO(image_data))"
   ]
  },
  {
   "cell_type": "code",
   "execution_count": null,
   "id": "d877c453-e7fb-482a-88aa-1a03f976b9e9",
   "metadata": {},
   "outputs": [],
   "source": [
    "image = artist(\"São Paulo - SP\")\n",
    "display(image)"
   ]
  },
  {
   "cell_type": "code",
   "execution_count": null,
   "id": "728a12c5-adc3-415d-bb05-82beb73b079b",
   "metadata": {},
   "outputs": [],
   "source": []
  },
  {
   "cell_type": "markdown",
   "id": "f4975b87-19e9-4ade-a232-9b809ec75c9a",
   "metadata": {},
   "source": [
    "## Audio (NOTE - Audio is optional for this course - feel free to skip Audio if it causes trouble!)\n",
    "\n",
    "And let's make a function talker that uses OpenAI's speech model to generate Audio\n",
    "\n",
    "### Troubleshooting Audio issues\n",
    "\n",
    "If you have any problems running this code below (like a FileNotFound error, or a warning of a missing package), you may need to install FFmpeg, a very popular audio utility.\n",
    "\n",
    "**For PC Users**\n",
    "\n",
    "Detailed instructions are [here](https://chatgpt.com/share/6724efee-6b0c-8012-ac5e-72e2e3885905) and summary instructions:\n",
    "\n",
    "1. Download FFmpeg from the official website: https://ffmpeg.org/download.html\n",
    "\n",
    "2. Extract the downloaded files to a location on your computer (e.g., `C:\\ffmpeg`)\n",
    "\n",
    "3. Add the FFmpeg bin folder to your system PATH:\n",
    "- Right-click on 'This PC' or 'My Computer' and select 'Properties'\n",
    "- Click on 'Advanced system settings'\n",
    "- Click on 'Environment Variables'\n",
    "- Under 'System variables', find and edit 'Path'\n",
    "- Add a new entry with the path to your FFmpeg bin folder (e.g., `C:\\ffmpeg\\bin`)\n",
    "- Restart your command prompt, and within Jupyter Lab do Kernel -> Restart kernel, to pick up the changes\n",
    "\n",
    "4. Open a new command prompt and run this to make sure it's installed OK\n",
    "`ffmpeg -version`\n",
    "\n",
    "**For Mac Users**\n",
    "\n",
    "1. Install homebrew if you don't have it already by running this in a Terminal window and following any instructions:  \n",
    "`/bin/bash -c \"$(curl -fsSL https://raw.githubusercontent.com/Homebrew/install/HEAD/install.sh)\"`\n",
    "\n",
    "2. Then install FFmpeg with `brew install ffmpeg`\n",
    "\n",
    "3. Verify your installation with `ffmpeg -version` and if everything is good, within Jupyter Lab do Kernel -> Restart kernel to pick up the changes\n",
    "\n",
    "Message me or email me at ed@edwarddonner.com with any problems!"
   ]
  },
  {
   "cell_type": "markdown",
   "id": "4cc90e80-c96e-4dd4-b9d6-386fe2b7e797",
   "metadata": {},
   "source": [
    "## To check you now have ffmpeg and can access it here\n",
    "\n",
    "Excecute the next cell to see if you get a version number. (Putting an exclamation mark before something in Jupyter Lab tells it to run it as a terminal command rather than python code).\n",
    "\n",
    "If this doesn't work, you may need to actually save and close down your Jupyter lab, and start it again from a new Terminal window (Mac) or Anaconda prompt (PC), remembering to activate the llms environment. This ensures you pick up ffmpeg.\n",
    "\n",
    "And if that doesn't work, please contact me!"
   ]
  },
  {
   "cell_type": "code",
   "execution_count": null,
   "id": "7b3be0fb-1d34-4693-ab6f-dbff190afcd7",
   "metadata": {},
   "outputs": [],
   "source": [
    "!ffmpeg -version\n",
    "!ffprobe -version\n",
    "!ffplay -version"
   ]
  },
  {
   "cell_type": "markdown",
   "id": "d91d3f8f-e505-4e3c-a87c-9e42ed823db6",
   "metadata": {},
   "source": [
    "# For Mac users - and possibly many PC users too\n",
    "\n",
    "This version should work fine for you. It might work for Windows users too, but you might get a Permissions error writing to a temp file. If so, see the next section!\n",
    "\n",
    "As always, if you have problems, please contact me! (You could also comment out the audio talker() in the later code if you're less interested in audio generation)"
   ]
  },
  {
   "cell_type": "code",
   "execution_count": null,
   "id": "ffbfe93b-5e86-4e68-ba71-b301cd5230db",
   "metadata": {},
   "outputs": [],
   "source": [
    "from pydub import AudioSegment\n",
    "from pydub.playback import play\n",
    "\n",
    "def talker(message):\n",
    "    response = openai.audio.speech.create(\n",
    "      model=\"tts-1\",\n",
    "      voice=\"onyx\",    # Also, try replacing onyx with alloy\n",
    "      input=message\n",
    "    )\n",
    "    \n",
    "    audio_stream = BytesIO(response.content)\n",
    "    audio = AudioSegment.from_file(audio_stream, format=\"mp3\")\n",
    "    play(audio)"
   ]
  },
  {
   "cell_type": "code",
   "execution_count": null,
   "id": "b88d775d-d357-4292-a1ad-5dc5ed567281",
   "metadata": {},
   "outputs": [],
   "source": [
    "talker(\"Well, hi there\")"
   ]
  },
  {
   "cell_type": "markdown",
   "id": "ad89a9bd-bb1e-4bbb-a49a-83af5f500c24",
   "metadata": {},
   "source": [
    "# For Windows users (or any Mac users with problems above)\n",
    "\n",
    "## First try the Mac version above, but if you get a permissions error writing to a temp file, then this code should work instead.\n",
    "\n",
    "A collaboration between students Mark M. and Patrick H. and Claude got this resolved!\n",
    "\n",
    "Below are 4 variations - hopefully one of them will work on your PC. If not, message me please!\n",
    "\n",
    "And for Mac people - all 3 of the below work on my Mac too - please try these if the Mac version gave you problems.\n",
    "\n",
    "## PC Variation 1"
   ]
  },
  {
   "cell_type": "code",
   "execution_count": 16,
   "id": "d104b96a-02ca-4159-82fe-88e0452aa479",
   "metadata": {},
   "outputs": [
    {
     "data": {
      "text/html": [
       "\n",
       "                <audio  controls=\"controls\" autoplay=\"autoplay\">\n",
       "                    <source src=\"data:audio/mpeg;base64,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\" type=\"audio/mpeg\" />\n",
       "                    Your browser does not support the audio element.\n",
       "                </audio>\n",
       "              "
      ],
      "text/plain": [
       "<IPython.lib.display.Audio object>"
      ]
     },
     "metadata": {},
     "output_type": "display_data"
    }
   ],
   "source": [
    "import base64\n",
    "from io import BytesIO\n",
    "from PIL import Image\n",
    "from IPython.display import Audio, display\n",
    "\n",
    "def talker(message):\n",
    "    response = openai.audio.speech.create(\n",
    "        model=\"tts-1\",\n",
    "        voice=\"onyx\",\n",
    "        input=message)\n",
    "\n",
    "    audio_stream = BytesIO(response.content)\n",
    "    output_filename = \"output_audio.mp3\"\n",
    "    with open(output_filename, \"wb\") as f:\n",
    "        f.write(audio_stream.read())\n",
    "\n",
    "    # Play the generated audio\n",
    "    display(Audio(output_filename, autoplay=True))\n",
    "\n",
    "talker(\"Well, hi there\")"
   ]
  },
  {
   "cell_type": "markdown",
   "id": "3a5d11f4-bbd3-43a1-904d-f684eb5f3e3a",
   "metadata": {},
   "source": [
    "## PC Variation 2"
   ]
  },
  {
   "cell_type": "code",
   "execution_count": 17,
   "id": "d59c8ebd-79c5-498a-bdf2-3a1c50d91aa0",
   "metadata": {},
   "outputs": [
    {
     "name": "stderr",
     "output_type": "stream",
     "text": [
      "C:\\Users\\gabri\\anaconda3\\envs\\llms\\Lib\\site-packages\\pydub\\utils.py:198: RuntimeWarning: Couldn't find ffprobe or avprobe - defaulting to ffprobe, but may not work\n",
      "  warn(\"Couldn't find ffprobe or avprobe - defaulting to ffprobe, but may not work\", RuntimeWarning)\n"
     ]
    },
    {
     "ename": "FileNotFoundError",
     "evalue": "[WinError 2] The system cannot find the file specified",
     "output_type": "error",
     "traceback": [
      "\u001b[31m---------------------------------------------------------------------------\u001b[39m",
      "\u001b[31mFileNotFoundError\u001b[39m                         Traceback (most recent call last)",
      "\u001b[36mCell\u001b[39m\u001b[36m \u001b[39m\u001b[32mIn[17]\u001b[39m\u001b[32m, line 36\u001b[39m\n\u001b[32m     33\u001b[39m     audio = AudioSegment.from_file(audio_stream, \u001b[38;5;28mformat\u001b[39m=\u001b[33m\"\u001b[39m\u001b[33mmp3\u001b[39m\u001b[33m\"\u001b[39m)\n\u001b[32m     34\u001b[39m     play_audio(audio)\n\u001b[32m---> \u001b[39m\u001b[32m36\u001b[39m \u001b[43mtalker\u001b[49m\u001b[43m(\u001b[49m\u001b[33;43m\"\u001b[39;49m\u001b[33;43mWell hi there\u001b[39;49m\u001b[33;43m\"\u001b[39;49m\u001b[43m)\u001b[49m\n",
      "\u001b[36mCell\u001b[39m\u001b[36m \u001b[39m\u001b[32mIn[17]\u001b[39m\u001b[32m, line 33\u001b[39m, in \u001b[36mtalker\u001b[39m\u001b[34m(message)\u001b[39m\n\u001b[32m     27\u001b[39m response = openai.audio.speech.create(\n\u001b[32m     28\u001b[39m     model=\u001b[33m\"\u001b[39m\u001b[33mtts-1\u001b[39m\u001b[33m\"\u001b[39m,\n\u001b[32m     29\u001b[39m     voice=\u001b[33m\"\u001b[39m\u001b[33monyx\u001b[39m\u001b[33m\"\u001b[39m,  \u001b[38;5;66;03m# Also, try replacing onyx with alloy\u001b[39;00m\n\u001b[32m     30\u001b[39m     \u001b[38;5;28minput\u001b[39m=message\n\u001b[32m     31\u001b[39m )\n\u001b[32m     32\u001b[39m audio_stream = BytesIO(response.content)\n\u001b[32m---> \u001b[39m\u001b[32m33\u001b[39m audio = \u001b[43mAudioSegment\u001b[49m\u001b[43m.\u001b[49m\u001b[43mfrom_file\u001b[49m\u001b[43m(\u001b[49m\u001b[43maudio_stream\u001b[49m\u001b[43m,\u001b[49m\u001b[43m \u001b[49m\u001b[38;5;28;43mformat\u001b[39;49m\u001b[43m=\u001b[49m\u001b[33;43m\"\u001b[39;49m\u001b[33;43mmp3\u001b[39;49m\u001b[33;43m\"\u001b[39;49m\u001b[43m)\u001b[49m\n\u001b[32m     34\u001b[39m play_audio(audio)\n",
      "\u001b[36mFile \u001b[39m\u001b[32m~\\anaconda3\\envs\\llms\\Lib\\site-packages\\pydub\\audio_segment.py:728\u001b[39m, in \u001b[36mAudioSegment.from_file\u001b[39m\u001b[34m(cls, file, format, codec, parameters, start_second, duration, **kwargs)\u001b[39m\n\u001b[32m    726\u001b[39m     info = \u001b[38;5;28;01mNone\u001b[39;00m\n\u001b[32m    727\u001b[39m \u001b[38;5;28;01melse\u001b[39;00m:\n\u001b[32m--> \u001b[39m\u001b[32m728\u001b[39m     info = \u001b[43mmediainfo_json\u001b[49m\u001b[43m(\u001b[49m\u001b[43morig_file\u001b[49m\u001b[43m,\u001b[49m\u001b[43m \u001b[49m\u001b[43mread_ahead_limit\u001b[49m\u001b[43m=\u001b[49m\u001b[43mread_ahead_limit\u001b[49m\u001b[43m)\u001b[49m\n\u001b[32m    729\u001b[39m \u001b[38;5;28;01mif\u001b[39;00m info:\n\u001b[32m    730\u001b[39m     audio_streams = [x \u001b[38;5;28;01mfor\u001b[39;00m x \u001b[38;5;129;01min\u001b[39;00m info[\u001b[33m'\u001b[39m\u001b[33mstreams\u001b[39m\u001b[33m'\u001b[39m]\n\u001b[32m    731\u001b[39m                      \u001b[38;5;28;01mif\u001b[39;00m x[\u001b[33m'\u001b[39m\u001b[33mcodec_type\u001b[39m\u001b[33m'\u001b[39m] == \u001b[33m'\u001b[39m\u001b[33maudio\u001b[39m\u001b[33m'\u001b[39m]\n",
      "\u001b[36mFile \u001b[39m\u001b[32m~\\anaconda3\\envs\\llms\\Lib\\site-packages\\pydub\\utils.py:274\u001b[39m, in \u001b[36mmediainfo_json\u001b[39m\u001b[34m(filepath, read_ahead_limit)\u001b[39m\n\u001b[32m    271\u001b[39m         file.close()\n\u001b[32m    273\u001b[39m command = [prober, \u001b[33m'\u001b[39m\u001b[33m-of\u001b[39m\u001b[33m'\u001b[39m, \u001b[33m'\u001b[39m\u001b[33mjson\u001b[39m\u001b[33m'\u001b[39m] + command_args\n\u001b[32m--> \u001b[39m\u001b[32m274\u001b[39m res = \u001b[43mPopen\u001b[49m\u001b[43m(\u001b[49m\u001b[43mcommand\u001b[49m\u001b[43m,\u001b[49m\u001b[43m \u001b[49m\u001b[43mstdin\u001b[49m\u001b[43m=\u001b[49m\u001b[43mstdin_parameter\u001b[49m\u001b[43m,\u001b[49m\u001b[43m \u001b[49m\u001b[43mstdout\u001b[49m\u001b[43m=\u001b[49m\u001b[43mPIPE\u001b[49m\u001b[43m,\u001b[49m\u001b[43m \u001b[49m\u001b[43mstderr\u001b[49m\u001b[43m=\u001b[49m\u001b[43mPIPE\u001b[49m\u001b[43m)\u001b[49m\n\u001b[32m    275\u001b[39m output, stderr = res.communicate(\u001b[38;5;28minput\u001b[39m=stdin_data)\n\u001b[32m    276\u001b[39m output = output.decode(\u001b[33m\"\u001b[39m\u001b[33mutf-8\u001b[39m\u001b[33m\"\u001b[39m, \u001b[33m'\u001b[39m\u001b[33mignore\u001b[39m\u001b[33m'\u001b[39m)\n",
      "\u001b[36mFile \u001b[39m\u001b[32m~\\anaconda3\\envs\\llms\\Lib\\subprocess.py:1026\u001b[39m, in \u001b[36mPopen.__init__\u001b[39m\u001b[34m(self, args, bufsize, executable, stdin, stdout, stderr, preexec_fn, close_fds, shell, cwd, env, universal_newlines, startupinfo, creationflags, restore_signals, start_new_session, pass_fds, user, group, extra_groups, encoding, errors, text, umask, pipesize, process_group)\u001b[39m\n\u001b[32m   1022\u001b[39m         \u001b[38;5;28;01mif\u001b[39;00m \u001b[38;5;28mself\u001b[39m.text_mode:\n\u001b[32m   1023\u001b[39m             \u001b[38;5;28mself\u001b[39m.stderr = io.TextIOWrapper(\u001b[38;5;28mself\u001b[39m.stderr,\n\u001b[32m   1024\u001b[39m                     encoding=encoding, errors=errors)\n\u001b[32m-> \u001b[39m\u001b[32m1026\u001b[39m     \u001b[38;5;28;43mself\u001b[39;49m\u001b[43m.\u001b[49m\u001b[43m_execute_child\u001b[49m\u001b[43m(\u001b[49m\u001b[43margs\u001b[49m\u001b[43m,\u001b[49m\u001b[43m \u001b[49m\u001b[43mexecutable\u001b[49m\u001b[43m,\u001b[49m\u001b[43m \u001b[49m\u001b[43mpreexec_fn\u001b[49m\u001b[43m,\u001b[49m\u001b[43m \u001b[49m\u001b[43mclose_fds\u001b[49m\u001b[43m,\u001b[49m\n\u001b[32m   1027\u001b[39m \u001b[43m                        \u001b[49m\u001b[43mpass_fds\u001b[49m\u001b[43m,\u001b[49m\u001b[43m \u001b[49m\u001b[43mcwd\u001b[49m\u001b[43m,\u001b[49m\u001b[43m \u001b[49m\u001b[43menv\u001b[49m\u001b[43m,\u001b[49m\n\u001b[32m   1028\u001b[39m \u001b[43m                        \u001b[49m\u001b[43mstartupinfo\u001b[49m\u001b[43m,\u001b[49m\u001b[43m \u001b[49m\u001b[43mcreationflags\u001b[49m\u001b[43m,\u001b[49m\u001b[43m \u001b[49m\u001b[43mshell\u001b[49m\u001b[43m,\u001b[49m\n\u001b[32m   1029\u001b[39m \u001b[43m                        \u001b[49m\u001b[43mp2cread\u001b[49m\u001b[43m,\u001b[49m\u001b[43m \u001b[49m\u001b[43mp2cwrite\u001b[49m\u001b[43m,\u001b[49m\n\u001b[32m   1030\u001b[39m \u001b[43m                        \u001b[49m\u001b[43mc2pread\u001b[49m\u001b[43m,\u001b[49m\u001b[43m \u001b[49m\u001b[43mc2pwrite\u001b[49m\u001b[43m,\u001b[49m\n\u001b[32m   1031\u001b[39m \u001b[43m                        \u001b[49m\u001b[43merrread\u001b[49m\u001b[43m,\u001b[49m\u001b[43m \u001b[49m\u001b[43merrwrite\u001b[49m\u001b[43m,\u001b[49m\n\u001b[32m   1032\u001b[39m \u001b[43m                        \u001b[49m\u001b[43mrestore_signals\u001b[49m\u001b[43m,\u001b[49m\n\u001b[32m   1033\u001b[39m \u001b[43m                        \u001b[49m\u001b[43mgid\u001b[49m\u001b[43m,\u001b[49m\u001b[43m \u001b[49m\u001b[43mgids\u001b[49m\u001b[43m,\u001b[49m\u001b[43m \u001b[49m\u001b[43muid\u001b[49m\u001b[43m,\u001b[49m\u001b[43m \u001b[49m\u001b[43mumask\u001b[49m\u001b[43m,\u001b[49m\n\u001b[32m   1034\u001b[39m \u001b[43m                        \u001b[49m\u001b[43mstart_new_session\u001b[49m\u001b[43m,\u001b[49m\u001b[43m \u001b[49m\u001b[43mprocess_group\u001b[49m\u001b[43m)\u001b[49m\n\u001b[32m   1035\u001b[39m \u001b[38;5;28;01mexcept\u001b[39;00m:\n\u001b[32m   1036\u001b[39m     \u001b[38;5;66;03m# Cleanup if the child failed starting.\u001b[39;00m\n\u001b[32m   1037\u001b[39m     \u001b[38;5;28;01mfor\u001b[39;00m f \u001b[38;5;129;01min\u001b[39;00m \u001b[38;5;28mfilter\u001b[39m(\u001b[38;5;28;01mNone\u001b[39;00m, (\u001b[38;5;28mself\u001b[39m.stdin, \u001b[38;5;28mself\u001b[39m.stdout, \u001b[38;5;28mself\u001b[39m.stderr)):\n",
      "\u001b[36mFile \u001b[39m\u001b[32m~\\anaconda3\\envs\\llms\\Lib\\subprocess.py:1538\u001b[39m, in \u001b[36mPopen._execute_child\u001b[39m\u001b[34m(self, args, executable, preexec_fn, close_fds, pass_fds, cwd, env, startupinfo, creationflags, shell, p2cread, p2cwrite, c2pread, c2pwrite, errread, errwrite, unused_restore_signals, unused_gid, unused_gids, unused_uid, unused_umask, unused_start_new_session, unused_process_group)\u001b[39m\n\u001b[32m   1536\u001b[39m \u001b[38;5;66;03m# Start the process\u001b[39;00m\n\u001b[32m   1537\u001b[39m \u001b[38;5;28;01mtry\u001b[39;00m:\n\u001b[32m-> \u001b[39m\u001b[32m1538\u001b[39m     hp, ht, pid, tid = \u001b[43m_winapi\u001b[49m\u001b[43m.\u001b[49m\u001b[43mCreateProcess\u001b[49m\u001b[43m(\u001b[49m\u001b[43mexecutable\u001b[49m\u001b[43m,\u001b[49m\u001b[43m \u001b[49m\u001b[43margs\u001b[49m\u001b[43m,\u001b[49m\n\u001b[32m   1539\u001b[39m \u001b[43m                             \u001b[49m\u001b[38;5;66;43;03m# no special security\u001b[39;49;00m\n\u001b[32m   1540\u001b[39m \u001b[43m                             \u001b[49m\u001b[38;5;28;43;01mNone\u001b[39;49;00m\u001b[43m,\u001b[49m\u001b[43m \u001b[49m\u001b[38;5;28;43;01mNone\u001b[39;49;00m\u001b[43m,\u001b[49m\n\u001b[32m   1541\u001b[39m \u001b[43m                             \u001b[49m\u001b[38;5;28;43mint\u001b[39;49m\u001b[43m(\u001b[49m\u001b[38;5;129;43;01mnot\u001b[39;49;00m\u001b[43m \u001b[49m\u001b[43mclose_fds\u001b[49m\u001b[43m)\u001b[49m\u001b[43m,\u001b[49m\n\u001b[32m   1542\u001b[39m \u001b[43m                             \u001b[49m\u001b[43mcreationflags\u001b[49m\u001b[43m,\u001b[49m\n\u001b[32m   1543\u001b[39m \u001b[43m                             \u001b[49m\u001b[43menv\u001b[49m\u001b[43m,\u001b[49m\n\u001b[32m   1544\u001b[39m \u001b[43m                             \u001b[49m\u001b[43mcwd\u001b[49m\u001b[43m,\u001b[49m\n\u001b[32m   1545\u001b[39m \u001b[43m                             \u001b[49m\u001b[43mstartupinfo\u001b[49m\u001b[43m)\u001b[49m\n\u001b[32m   1546\u001b[39m \u001b[38;5;28;01mfinally\u001b[39;00m:\n\u001b[32m   1547\u001b[39m     \u001b[38;5;66;03m# Child is launched. Close the parent's copy of those pipe\u001b[39;00m\n\u001b[32m   1548\u001b[39m     \u001b[38;5;66;03m# handles that only the child should have open.  You need\u001b[39;00m\n\u001b[32m   (...)\u001b[39m\u001b[32m   1551\u001b[39m     \u001b[38;5;66;03m# pipe will not close when the child process exits and the\u001b[39;00m\n\u001b[32m   1552\u001b[39m     \u001b[38;5;66;03m# ReadFile will hang.\u001b[39;00m\n\u001b[32m   1553\u001b[39m     \u001b[38;5;28mself\u001b[39m._close_pipe_fds(p2cread, p2cwrite,\n\u001b[32m   1554\u001b[39m                          c2pread, c2pwrite,\n\u001b[32m   1555\u001b[39m                          errread, errwrite)\n",
      "\u001b[31mFileNotFoundError\u001b[39m: [WinError 2] The system cannot find the file specified"
     ]
    }
   ],
   "source": [
    "import tempfile\n",
    "import subprocess\n",
    "from io import BytesIO\n",
    "from pydub import AudioSegment\n",
    "import time\n",
    "\n",
    "def play_audio(audio_segment):\n",
    "    temp_dir = tempfile.gettempdir()\n",
    "    temp_path = os.path.join(temp_dir, \"temp_audio.wav\")\n",
    "    try:\n",
    "        audio_segment.export(temp_path, format=\"wav\")\n",
    "        time.sleep(3) # Student Dominic found that this was needed. You could also try commenting out to see if not needed on your PC\n",
    "        subprocess.call([\n",
    "            \"ffplay\",\n",
    "            \"-nodisp\",\n",
    "            \"-autoexit\",\n",
    "            \"-hide_banner\",\n",
    "            temp_path\n",
    "        ], stdout=subprocess.DEVNULL, stderr=subprocess.DEVNULL)\n",
    "    finally:\n",
    "        try:\n",
    "            os.remove(temp_path)\n",
    "        except Exception:\n",
    "            pass\n",
    " \n",
    "def talker(message):\n",
    "    response = openai.audio.speech.create(\n",
    "        model=\"tts-1\",\n",
    "        voice=\"onyx\",  # Also, try replacing onyx with alloy\n",
    "        input=message\n",
    "    )\n",
    "    audio_stream = BytesIO(response.content)\n",
    "    audio = AudioSegment.from_file(audio_stream, format=\"mp3\")\n",
    "    play_audio(audio)\n",
    "\n",
    "talker(\"Well hi there\")"
   ]
  },
  {
   "cell_type": "markdown",
   "id": "96f90e35-f71e-468e-afea-07b98f74dbcf",
   "metadata": {},
   "source": [
    "## PC Variation 3"
   ]
  },
  {
   "cell_type": "code",
   "execution_count": 18,
   "id": "8597c7f8-7b50-44ad-9b31-db12375cd57b",
   "metadata": {},
   "outputs": [
    {
     "ename": "FileNotFoundError",
     "evalue": "[WinError 2] The system cannot find the file specified",
     "output_type": "error",
     "traceback": [
      "\u001b[31m---------------------------------------------------------------------------\u001b[39m",
      "\u001b[31mFileNotFoundError\u001b[39m                         Traceback (most recent call last)",
      "\u001b[36mCell\u001b[39m\u001b[36m \u001b[39m\u001b[32mIn[18]\u001b[39m\u001b[32m, line 26\u001b[39m\n\u001b[32m     22\u001b[39m     audio = AudioSegment.from_file(audio_stream, \u001b[38;5;28mformat\u001b[39m=\u001b[33m\"\u001b[39m\u001b[33mmp3\u001b[39m\u001b[33m\"\u001b[39m)\n\u001b[32m     24\u001b[39m     play(audio)\n\u001b[32m---> \u001b[39m\u001b[32m26\u001b[39m \u001b[43mtalker\u001b[49m\u001b[43m(\u001b[49m\u001b[33;43m\"\u001b[39;49m\u001b[33;43mWell hi there\u001b[39;49m\u001b[33;43m\"\u001b[39;49m\u001b[43m)\u001b[49m\n",
      "\u001b[36mCell\u001b[39m\u001b[36m \u001b[39m\u001b[32mIn[18]\u001b[39m\u001b[32m, line 22\u001b[39m, in \u001b[36mtalker\u001b[39m\u001b[34m(message)\u001b[39m\n\u001b[32m     15\u001b[39m response = openai.audio.speech.create(\n\u001b[32m     16\u001b[39m     model=\u001b[33m\"\u001b[39m\u001b[33mtts-1\u001b[39m\u001b[33m\"\u001b[39m,\n\u001b[32m     17\u001b[39m     voice=\u001b[33m\"\u001b[39m\u001b[33monyx\u001b[39m\u001b[33m\"\u001b[39m,  \u001b[38;5;66;03m# Also, try replacing onyx with alloy\u001b[39;00m\n\u001b[32m     18\u001b[39m     \u001b[38;5;28minput\u001b[39m=message\n\u001b[32m     19\u001b[39m )\n\u001b[32m     21\u001b[39m audio_stream = BytesIO(response.content)\n\u001b[32m---> \u001b[39m\u001b[32m22\u001b[39m audio = \u001b[43mAudioSegment\u001b[49m\u001b[43m.\u001b[49m\u001b[43mfrom_file\u001b[49m\u001b[43m(\u001b[49m\u001b[43maudio_stream\u001b[49m\u001b[43m,\u001b[49m\u001b[43m \u001b[49m\u001b[38;5;28;43mformat\u001b[39;49m\u001b[43m=\u001b[49m\u001b[33;43m\"\u001b[39;49m\u001b[33;43mmp3\u001b[39;49m\u001b[33;43m\"\u001b[39;49m\u001b[43m)\u001b[49m\n\u001b[32m     24\u001b[39m play(audio)\n",
      "\u001b[36mFile \u001b[39m\u001b[32m~\\anaconda3\\envs\\llms\\Lib\\site-packages\\pydub\\audio_segment.py:728\u001b[39m, in \u001b[36mAudioSegment.from_file\u001b[39m\u001b[34m(cls, file, format, codec, parameters, start_second, duration, **kwargs)\u001b[39m\n\u001b[32m    726\u001b[39m     info = \u001b[38;5;28;01mNone\u001b[39;00m\n\u001b[32m    727\u001b[39m \u001b[38;5;28;01melse\u001b[39;00m:\n\u001b[32m--> \u001b[39m\u001b[32m728\u001b[39m     info = \u001b[43mmediainfo_json\u001b[49m\u001b[43m(\u001b[49m\u001b[43morig_file\u001b[49m\u001b[43m,\u001b[49m\u001b[43m \u001b[49m\u001b[43mread_ahead_limit\u001b[49m\u001b[43m=\u001b[49m\u001b[43mread_ahead_limit\u001b[49m\u001b[43m)\u001b[49m\n\u001b[32m    729\u001b[39m \u001b[38;5;28;01mif\u001b[39;00m info:\n\u001b[32m    730\u001b[39m     audio_streams = [x \u001b[38;5;28;01mfor\u001b[39;00m x \u001b[38;5;129;01min\u001b[39;00m info[\u001b[33m'\u001b[39m\u001b[33mstreams\u001b[39m\u001b[33m'\u001b[39m]\n\u001b[32m    731\u001b[39m                      \u001b[38;5;28;01mif\u001b[39;00m x[\u001b[33m'\u001b[39m\u001b[33mcodec_type\u001b[39m\u001b[33m'\u001b[39m] == \u001b[33m'\u001b[39m\u001b[33maudio\u001b[39m\u001b[33m'\u001b[39m]\n",
      "\u001b[36mFile \u001b[39m\u001b[32m~\\anaconda3\\envs\\llms\\Lib\\site-packages\\pydub\\utils.py:274\u001b[39m, in \u001b[36mmediainfo_json\u001b[39m\u001b[34m(filepath, read_ahead_limit)\u001b[39m\n\u001b[32m    271\u001b[39m         file.close()\n\u001b[32m    273\u001b[39m command = [prober, \u001b[33m'\u001b[39m\u001b[33m-of\u001b[39m\u001b[33m'\u001b[39m, \u001b[33m'\u001b[39m\u001b[33mjson\u001b[39m\u001b[33m'\u001b[39m] + command_args\n\u001b[32m--> \u001b[39m\u001b[32m274\u001b[39m res = \u001b[43mPopen\u001b[49m\u001b[43m(\u001b[49m\u001b[43mcommand\u001b[49m\u001b[43m,\u001b[49m\u001b[43m \u001b[49m\u001b[43mstdin\u001b[49m\u001b[43m=\u001b[49m\u001b[43mstdin_parameter\u001b[49m\u001b[43m,\u001b[49m\u001b[43m \u001b[49m\u001b[43mstdout\u001b[49m\u001b[43m=\u001b[49m\u001b[43mPIPE\u001b[49m\u001b[43m,\u001b[49m\u001b[43m \u001b[49m\u001b[43mstderr\u001b[49m\u001b[43m=\u001b[49m\u001b[43mPIPE\u001b[49m\u001b[43m)\u001b[49m\n\u001b[32m    275\u001b[39m output, stderr = res.communicate(\u001b[38;5;28minput\u001b[39m=stdin_data)\n\u001b[32m    276\u001b[39m output = output.decode(\u001b[33m\"\u001b[39m\u001b[33mutf-8\u001b[39m\u001b[33m\"\u001b[39m, \u001b[33m'\u001b[39m\u001b[33mignore\u001b[39m\u001b[33m'\u001b[39m)\n",
      "\u001b[36mFile \u001b[39m\u001b[32m~\\anaconda3\\envs\\llms\\Lib\\subprocess.py:1026\u001b[39m, in \u001b[36mPopen.__init__\u001b[39m\u001b[34m(self, args, bufsize, executable, stdin, stdout, stderr, preexec_fn, close_fds, shell, cwd, env, universal_newlines, startupinfo, creationflags, restore_signals, start_new_session, pass_fds, user, group, extra_groups, encoding, errors, text, umask, pipesize, process_group)\u001b[39m\n\u001b[32m   1022\u001b[39m         \u001b[38;5;28;01mif\u001b[39;00m \u001b[38;5;28mself\u001b[39m.text_mode:\n\u001b[32m   1023\u001b[39m             \u001b[38;5;28mself\u001b[39m.stderr = io.TextIOWrapper(\u001b[38;5;28mself\u001b[39m.stderr,\n\u001b[32m   1024\u001b[39m                     encoding=encoding, errors=errors)\n\u001b[32m-> \u001b[39m\u001b[32m1026\u001b[39m     \u001b[38;5;28;43mself\u001b[39;49m\u001b[43m.\u001b[49m\u001b[43m_execute_child\u001b[49m\u001b[43m(\u001b[49m\u001b[43margs\u001b[49m\u001b[43m,\u001b[49m\u001b[43m \u001b[49m\u001b[43mexecutable\u001b[49m\u001b[43m,\u001b[49m\u001b[43m \u001b[49m\u001b[43mpreexec_fn\u001b[49m\u001b[43m,\u001b[49m\u001b[43m \u001b[49m\u001b[43mclose_fds\u001b[49m\u001b[43m,\u001b[49m\n\u001b[32m   1027\u001b[39m \u001b[43m                        \u001b[49m\u001b[43mpass_fds\u001b[49m\u001b[43m,\u001b[49m\u001b[43m \u001b[49m\u001b[43mcwd\u001b[49m\u001b[43m,\u001b[49m\u001b[43m \u001b[49m\u001b[43menv\u001b[49m\u001b[43m,\u001b[49m\n\u001b[32m   1028\u001b[39m \u001b[43m                        \u001b[49m\u001b[43mstartupinfo\u001b[49m\u001b[43m,\u001b[49m\u001b[43m \u001b[49m\u001b[43mcreationflags\u001b[49m\u001b[43m,\u001b[49m\u001b[43m \u001b[49m\u001b[43mshell\u001b[49m\u001b[43m,\u001b[49m\n\u001b[32m   1029\u001b[39m \u001b[43m                        \u001b[49m\u001b[43mp2cread\u001b[49m\u001b[43m,\u001b[49m\u001b[43m \u001b[49m\u001b[43mp2cwrite\u001b[49m\u001b[43m,\u001b[49m\n\u001b[32m   1030\u001b[39m \u001b[43m                        \u001b[49m\u001b[43mc2pread\u001b[49m\u001b[43m,\u001b[49m\u001b[43m \u001b[49m\u001b[43mc2pwrite\u001b[49m\u001b[43m,\u001b[49m\n\u001b[32m   1031\u001b[39m \u001b[43m                        \u001b[49m\u001b[43merrread\u001b[49m\u001b[43m,\u001b[49m\u001b[43m \u001b[49m\u001b[43merrwrite\u001b[49m\u001b[43m,\u001b[49m\n\u001b[32m   1032\u001b[39m \u001b[43m                        \u001b[49m\u001b[43mrestore_signals\u001b[49m\u001b[43m,\u001b[49m\n\u001b[32m   1033\u001b[39m \u001b[43m                        \u001b[49m\u001b[43mgid\u001b[49m\u001b[43m,\u001b[49m\u001b[43m \u001b[49m\u001b[43mgids\u001b[49m\u001b[43m,\u001b[49m\u001b[43m \u001b[49m\u001b[43muid\u001b[49m\u001b[43m,\u001b[49m\u001b[43m \u001b[49m\u001b[43mumask\u001b[49m\u001b[43m,\u001b[49m\n\u001b[32m   1034\u001b[39m \u001b[43m                        \u001b[49m\u001b[43mstart_new_session\u001b[49m\u001b[43m,\u001b[49m\u001b[43m \u001b[49m\u001b[43mprocess_group\u001b[49m\u001b[43m)\u001b[49m\n\u001b[32m   1035\u001b[39m \u001b[38;5;28;01mexcept\u001b[39;00m:\n\u001b[32m   1036\u001b[39m     \u001b[38;5;66;03m# Cleanup if the child failed starting.\u001b[39;00m\n\u001b[32m   1037\u001b[39m     \u001b[38;5;28;01mfor\u001b[39;00m f \u001b[38;5;129;01min\u001b[39;00m \u001b[38;5;28mfilter\u001b[39m(\u001b[38;5;28;01mNone\u001b[39;00m, (\u001b[38;5;28mself\u001b[39m.stdin, \u001b[38;5;28mself\u001b[39m.stdout, \u001b[38;5;28mself\u001b[39m.stderr)):\n",
      "\u001b[36mFile \u001b[39m\u001b[32m~\\anaconda3\\envs\\llms\\Lib\\subprocess.py:1538\u001b[39m, in \u001b[36mPopen._execute_child\u001b[39m\u001b[34m(self, args, executable, preexec_fn, close_fds, pass_fds, cwd, env, startupinfo, creationflags, shell, p2cread, p2cwrite, c2pread, c2pwrite, errread, errwrite, unused_restore_signals, unused_gid, unused_gids, unused_uid, unused_umask, unused_start_new_session, unused_process_group)\u001b[39m\n\u001b[32m   1536\u001b[39m \u001b[38;5;66;03m# Start the process\u001b[39;00m\n\u001b[32m   1537\u001b[39m \u001b[38;5;28;01mtry\u001b[39;00m:\n\u001b[32m-> \u001b[39m\u001b[32m1538\u001b[39m     hp, ht, pid, tid = \u001b[43m_winapi\u001b[49m\u001b[43m.\u001b[49m\u001b[43mCreateProcess\u001b[49m\u001b[43m(\u001b[49m\u001b[43mexecutable\u001b[49m\u001b[43m,\u001b[49m\u001b[43m \u001b[49m\u001b[43margs\u001b[49m\u001b[43m,\u001b[49m\n\u001b[32m   1539\u001b[39m \u001b[43m                             \u001b[49m\u001b[38;5;66;43;03m# no special security\u001b[39;49;00m\n\u001b[32m   1540\u001b[39m \u001b[43m                             \u001b[49m\u001b[38;5;28;43;01mNone\u001b[39;49;00m\u001b[43m,\u001b[49m\u001b[43m \u001b[49m\u001b[38;5;28;43;01mNone\u001b[39;49;00m\u001b[43m,\u001b[49m\n\u001b[32m   1541\u001b[39m \u001b[43m                             \u001b[49m\u001b[38;5;28;43mint\u001b[39;49m\u001b[43m(\u001b[49m\u001b[38;5;129;43;01mnot\u001b[39;49;00m\u001b[43m \u001b[49m\u001b[43mclose_fds\u001b[49m\u001b[43m)\u001b[49m\u001b[43m,\u001b[49m\n\u001b[32m   1542\u001b[39m \u001b[43m                             \u001b[49m\u001b[43mcreationflags\u001b[49m\u001b[43m,\u001b[49m\n\u001b[32m   1543\u001b[39m \u001b[43m                             \u001b[49m\u001b[43menv\u001b[49m\u001b[43m,\u001b[49m\n\u001b[32m   1544\u001b[39m \u001b[43m                             \u001b[49m\u001b[43mcwd\u001b[49m\u001b[43m,\u001b[49m\n\u001b[32m   1545\u001b[39m \u001b[43m                             \u001b[49m\u001b[43mstartupinfo\u001b[49m\u001b[43m)\u001b[49m\n\u001b[32m   1546\u001b[39m \u001b[38;5;28;01mfinally\u001b[39;00m:\n\u001b[32m   1547\u001b[39m     \u001b[38;5;66;03m# Child is launched. Close the parent's copy of those pipe\u001b[39;00m\n\u001b[32m   1548\u001b[39m     \u001b[38;5;66;03m# handles that only the child should have open.  You need\u001b[39;00m\n\u001b[32m   (...)\u001b[39m\u001b[32m   1551\u001b[39m     \u001b[38;5;66;03m# pipe will not close when the child process exits and the\u001b[39;00m\n\u001b[32m   1552\u001b[39m     \u001b[38;5;66;03m# ReadFile will hang.\u001b[39;00m\n\u001b[32m   1553\u001b[39m     \u001b[38;5;28mself\u001b[39m._close_pipe_fds(p2cread, p2cwrite,\n\u001b[32m   1554\u001b[39m                          c2pread, c2pwrite,\n\u001b[32m   1555\u001b[39m                          errread, errwrite)\n",
      "\u001b[31mFileNotFoundError\u001b[39m: [WinError 2] The system cannot find the file specified"
     ]
    }
   ],
   "source": [
    "import os\n",
    "from pydub import AudioSegment\n",
    "from pydub.playback import play\n",
    "from io import BytesIO\n",
    "\n",
    "def talker(message):\n",
    "    # Set a custom directory for temporary files on Windows\n",
    "    custom_temp_dir = os.path.expanduser(\"~/Documents/temp_audio\")\n",
    "    os.environ['TEMP'] = custom_temp_dir  # You can also use 'TMP' if necessary\n",
    "    \n",
    "    # Create the folder if it doesn't exist\n",
    "    if not os.path.exists(custom_temp_dir):\n",
    "        os.makedirs(custom_temp_dir)\n",
    "    \n",
    "    response = openai.audio.speech.create(\n",
    "        model=\"tts-1\",\n",
    "        voice=\"onyx\",  # Also, try replacing onyx with alloy\n",
    "        input=message\n",
    "    )\n",
    "    \n",
    "    audio_stream = BytesIO(response.content)\n",
    "    audio = AudioSegment.from_file(audio_stream, format=\"mp3\")\n",
    "\n",
    "    play(audio)\n",
    "\n",
    "talker(\"Well hi there\")"
   ]
  },
  {
   "cell_type": "markdown",
   "id": "e821224c-b069-4f9b-9535-c15fdb0e411c",
   "metadata": {},
   "source": [
    "## PC Variation 4\n",
    "\n",
    "### Let's try a completely different sound library\n",
    "\n",
    "First run the next cell to install a new library, then try the cell below it."
   ]
  },
  {
   "cell_type": "code",
   "execution_count": null,
   "id": "69d3c0d9-afcc-49e3-b829-9c9869d8b472",
   "metadata": {},
   "outputs": [],
   "source": [
    "!pip install simpleaudio"
   ]
  },
  {
   "cell_type": "code",
   "execution_count": 19,
   "id": "28f9cc99-36b7-4554-b3f4-f2012f614a13",
   "metadata": {},
   "outputs": [
    {
     "ename": "ModuleNotFoundError",
     "evalue": "No module named 'simpleaudio'",
     "output_type": "error",
     "traceback": [
      "\u001b[31m---------------------------------------------------------------------------\u001b[39m",
      "\u001b[31mModuleNotFoundError\u001b[39m                       Traceback (most recent call last)",
      "\u001b[36mCell\u001b[39m\u001b[36m \u001b[39m\u001b[32mIn[19]\u001b[39m\u001b[32m, line 5\u001b[39m\n\u001b[32m      3\u001b[39m \u001b[38;5;28;01mimport\u001b[39;00m\u001b[38;5;250m \u001b[39m\u001b[34;01mtempfile\u001b[39;00m\n\u001b[32m      4\u001b[39m \u001b[38;5;28;01mimport\u001b[39;00m\u001b[38;5;250m \u001b[39m\u001b[34;01mos\u001b[39;00m\n\u001b[32m----> \u001b[39m\u001b[32m5\u001b[39m \u001b[38;5;28;01mimport\u001b[39;00m\u001b[38;5;250m \u001b[39m\u001b[34;01msimpleaudio\u001b[39;00m\u001b[38;5;250m \u001b[39m\u001b[38;5;28;01mas\u001b[39;00m\u001b[38;5;250m \u001b[39m\u001b[34;01msa\u001b[39;00m\n\u001b[32m      7\u001b[39m \u001b[38;5;28;01mdef\u001b[39;00m\u001b[38;5;250m \u001b[39m\u001b[34mtalker\u001b[39m(message):\n\u001b[32m      8\u001b[39m     response = openai.audio.speech.create(\n\u001b[32m      9\u001b[39m         model=\u001b[33m\"\u001b[39m\u001b[33mtts-1\u001b[39m\u001b[33m\"\u001b[39m,\n\u001b[32m     10\u001b[39m         voice=\u001b[33m\"\u001b[39m\u001b[33monyx\u001b[39m\u001b[33m\"\u001b[39m,  \u001b[38;5;66;03m# Also, try replacing onyx with alloy\u001b[39;00m\n\u001b[32m     11\u001b[39m         \u001b[38;5;28minput\u001b[39m=message\n\u001b[32m     12\u001b[39m     )\n",
      "\u001b[31mModuleNotFoundError\u001b[39m: No module named 'simpleaudio'"
     ]
    }
   ],
   "source": [
    "from pydub import AudioSegment\n",
    "from io import BytesIO\n",
    "import tempfile\n",
    "import os\n",
    "import simpleaudio as sa\n",
    "\n",
    "def talker(message):\n",
    "    response = openai.audio.speech.create(\n",
    "        model=\"tts-1\",\n",
    "        voice=\"onyx\",  # Also, try replacing onyx with alloy\n",
    "        input=message\n",
    "    )\n",
    "    \n",
    "    audio_stream = BytesIO(response.content)\n",
    "    audio = AudioSegment.from_file(audio_stream, format=\"mp3\")\n",
    "\n",
    "    # Create a temporary file in a folder where you have write permissions\n",
    "    with tempfile.NamedTemporaryFile(suffix=\".wav\", delete=False, dir=os.path.expanduser(\"~/Documents\")) as temp_audio_file:\n",
    "        temp_file_name = temp_audio_file.name\n",
    "        audio.export(temp_file_name, format=\"wav\")\n",
    "    \n",
    "    # Load and play audio using simpleaudio\n",
    "    wave_obj = sa.WaveObject.from_wave_file(temp_file_name)\n",
    "    play_obj = wave_obj.play()\n",
    "    play_obj.wait_done()  # Wait for playback to finish\n",
    "\n",
    "    # Clean up the temporary file afterward\n",
    "    os.remove(temp_file_name)\n",
    "    \n",
    "talker(\"Well hi there\")"
   ]
  },
  {
   "cell_type": "markdown",
   "id": "7986176b-cd04-495f-a47f-e057b0e462ed",
   "metadata": {},
   "source": [
    "## PC Users - if none of those 4 variations worked!\n",
    "\n",
    "Please get in touch with me. I'm sorry this is causing problems! We'll figure it out.\n",
    "\n",
    "Alternatively: playing audio from your PC isn't super-critical for this course, and you can feel free to focus on image generation and skip audio for now, or come back to it later."
   ]
  },
  {
   "cell_type": "markdown",
   "id": "1d48876d-c4fa-46a8-a04f-f9fadf61fb0d",
   "metadata": {},
   "source": [
    "# Our Agent Framework\n",
    "\n",
    "The term 'Agentic AI' and Agentization is an umbrella term that refers to a number of techniques, such as:\n",
    "\n",
    "1. Breaking a complex problem into smaller steps, with multiple LLMs carrying out specialized tasks\n",
    "2. The ability for LLMs to use Tools to give them additional capabilities\n",
    "3. The 'Agent Environment' which allows Agents to collaborate\n",
    "4. An LLM can act as the Planner, dividing bigger tasks into smaller ones for the specialists\n",
    "5. The concept of an Agent having autonomy / agency, beyond just responding to a prompt - such as Memory\n",
    "\n",
    "We're showing 1 and 2 here, and to a lesser extent 3 and 5. In week 8 we will do the lot!"
   ]
  },
  {
   "cell_type": "code",
   "execution_count": 20,
   "id": "ba820c95-02f5-499e-8f3c-8727ee0a6c0c",
   "metadata": {},
   "outputs": [],
   "source": [
    "def chat(history):\n",
    "    messages = [{\"role\": \"system\", \"content\": system_message}] + history\n",
    "    response = openai.chat.completions.create(model=MODEL, messages=messages, tools=tools)\n",
    "    image = None\n",
    "    \n",
    "    if response.choices[0].finish_reason==\"tool_calls\":\n",
    "        message = response.choices[0].message\n",
    "        response, city = handle_tool_call(message)\n",
    "        messages.append(message)\n",
    "        messages.append(response)\n",
    "        image = artist(city)\n",
    "        response = openai.chat.completions.create(model=MODEL, messages=messages)\n",
    "        \n",
    "    reply = response.choices[0].message.content\n",
    "    history += [{\"role\":\"assistant\", \"content\":reply}]\n",
    "\n",
    "    # Comment out or delete the next line if you'd rather skip Audio for now..\n",
    "    talker(reply)\n",
    "    \n",
    "    return history, image"
   ]
  },
  {
   "cell_type": "code",
   "execution_count": 21,
   "id": "f38d0d27-33bf-4992-a2e5-5dbed973cde7",
   "metadata": {},
   "outputs": [
    {
     "name": "stdout",
     "output_type": "stream",
     "text": [
      "* Running on local URL:  http://127.0.0.1:7863\n",
      "* To create a public link, set `share=True` in `launch()`.\n"
     ]
    },
    {
     "data": {
      "text/html": [
       "<div><iframe src=\"http://127.0.0.1:7863/\" width=\"100%\" height=\"500\" allow=\"autoplay; camera; microphone; clipboard-read; clipboard-write;\" frameborder=\"0\" allowfullscreen></iframe></div>"
      ],
      "text/plain": [
       "<IPython.core.display.HTML object>"
      ]
     },
     "metadata": {},
     "output_type": "display_data"
    },
    {
     "data": {
      "text/plain": []
     },
     "execution_count": 21,
     "metadata": {},
     "output_type": "execute_result"
    },
    {
     "name": "stderr",
     "output_type": "stream",
     "text": [
      "C:\\Users\\gabri\\anaconda3\\envs\\llms\\Lib\\site-packages\\pydub\\utils.py:198: RuntimeWarning: Couldn't find ffprobe or avprobe - defaulting to ffprobe, but may not work\n",
      "  warn(\"Couldn't find ffprobe or avprobe - defaulting to ffprobe, but may not work\", RuntimeWarning)\n",
      "Traceback (most recent call last):\n",
      "  File \"C:\\Users\\gabri\\anaconda3\\envs\\llms\\Lib\\site-packages\\gradio\\queueing.py\", line 626, in process_events\n",
      "    response = await route_utils.call_process_api(\n",
      "               ^^^^^^^^^^^^^^^^^^^^^^^^^^^^^^^^^^^\n",
      "  File \"C:\\Users\\gabri\\anaconda3\\envs\\llms\\Lib\\site-packages\\gradio\\route_utils.py\", line 350, in call_process_api\n",
      "    output = await app.get_blocks().process_api(\n",
      "             ^^^^^^^^^^^^^^^^^^^^^^^^^^^^^^^^^^^\n",
      "  File \"C:\\Users\\gabri\\anaconda3\\envs\\llms\\Lib\\site-packages\\gradio\\blocks.py\", line 2250, in process_api\n",
      "    result = await self.call_function(\n",
      "             ^^^^^^^^^^^^^^^^^^^^^^^^^\n",
      "  File \"C:\\Users\\gabri\\anaconda3\\envs\\llms\\Lib\\site-packages\\gradio\\blocks.py\", line 1757, in call_function\n",
      "    prediction = await anyio.to_thread.run_sync(  # type: ignore\n",
      "                 ^^^^^^^^^^^^^^^^^^^^^^^^^^^^^^^^^^^^^^^^^^^^^^^\n",
      "  File \"C:\\Users\\gabri\\anaconda3\\envs\\llms\\Lib\\site-packages\\anyio\\to_thread.py\", line 56, in run_sync\n",
      "    return await get_async_backend().run_sync_in_worker_thread(\n",
      "           ^^^^^^^^^^^^^^^^^^^^^^^^^^^^^^^^^^^^^^^^^^^^^^^^^^^^\n",
      "  File \"C:\\Users\\gabri\\anaconda3\\envs\\llms\\Lib\\site-packages\\anyio\\_backends\\_asyncio.py\", line 2476, in run_sync_in_worker_thread\n",
      "    return await future\n",
      "           ^^^^^^^^^^^^\n",
      "  File \"C:\\Users\\gabri\\anaconda3\\envs\\llms\\Lib\\site-packages\\anyio\\_backends\\_asyncio.py\", line 967, in run\n",
      "    result = context.run(func, *args)\n",
      "             ^^^^^^^^^^^^^^^^^^^^^^^^\n",
      "  File \"C:\\Users\\gabri\\anaconda3\\envs\\llms\\Lib\\site-packages\\gradio\\utils.py\", line 917, in wrapper\n",
      "    response = f(*args, **kwargs)\n",
      "               ^^^^^^^^^^^^^^^^^^\n",
      "  File \"C:\\Users\\gabri\\AppData\\Local\\Temp\\ipykernel_9552\\604378787.py\", line 18, in chat\n",
      "    talker(reply)\n",
      "  File \"C:\\Users\\gabri\\AppData\\Local\\Temp\\ipykernel_9552\\2246383147.py\", line 22, in talker\n",
      "    audio = AudioSegment.from_file(audio_stream, format=\"mp3\")\n",
      "            ^^^^^^^^^^^^^^^^^^^^^^^^^^^^^^^^^^^^^^^^^^^^^^^^^^\n",
      "  File \"C:\\Users\\gabri\\anaconda3\\envs\\llms\\Lib\\site-packages\\pydub\\audio_segment.py\", line 728, in from_file\n",
      "    info = mediainfo_json(orig_file, read_ahead_limit=read_ahead_limit)\n",
      "           ^^^^^^^^^^^^^^^^^^^^^^^^^^^^^^^^^^^^^^^^^^^^^^^^^^^^^^^^^^^^\n",
      "  File \"C:\\Users\\gabri\\anaconda3\\envs\\llms\\Lib\\site-packages\\pydub\\utils.py\", line 274, in mediainfo_json\n",
      "    res = Popen(command, stdin=stdin_parameter, stdout=PIPE, stderr=PIPE)\n",
      "          ^^^^^^^^^^^^^^^^^^^^^^^^^^^^^^^^^^^^^^^^^^^^^^^^^^^^^^^^^^^^^^^\n",
      "  File \"C:\\Users\\gabri\\anaconda3\\envs\\llms\\Lib\\subprocess.py\", line 1026, in __init__\n",
      "    self._execute_child(args, executable, preexec_fn, close_fds,\n",
      "  File \"C:\\Users\\gabri\\anaconda3\\envs\\llms\\Lib\\subprocess.py\", line 1538, in _execute_child\n",
      "    hp, ht, pid, tid = _winapi.CreateProcess(executable, args,\n",
      "                       ^^^^^^^^^^^^^^^^^^^^^^^^^^^^^^^^^^^^^^^\n",
      "FileNotFoundError: [WinError 2] The system cannot find the file specified\n"
     ]
    }
   ],
   "source": [
    "# More involved Gradio code as we're not using the preset Chat interface!\n",
    "# Passing in inbrowser=True in the last line will cause a Gradio window to pop up immediately.\n",
    "\n",
    "with gr.Blocks() as ui:\n",
    "    with gr.Row():\n",
    "        chatbot = gr.Chatbot(height=500, type=\"messages\")\n",
    "        image_output = gr.Image(height=500)\n",
    "    with gr.Row():\n",
    "        entry = gr.Textbox(label=\"Chat with our AI Assistant:\")\n",
    "    with gr.Row():\n",
    "        clear = gr.Button(\"Clear\")\n",
    "\n",
    "    def do_entry(message, history):\n",
    "        history += [{\"role\":\"user\", \"content\":message}]\n",
    "        return \"\", history\n",
    "\n",
    "    entry.submit(do_entry, inputs=[entry, chatbot], outputs=[entry, chatbot]).then(\n",
    "        chat, inputs=chatbot, outputs=[chatbot, image_output]\n",
    "    )\n",
    "    clear.click(lambda: None, inputs=None, outputs=chatbot, queue=False)\n",
    "\n",
    "ui.launch(inbrowser=True)"
   ]
  },
  {
   "cell_type": "markdown",
   "id": "226643d2-73e4-4252-935d-86b8019e278a",
   "metadata": {},
   "source": [
    "# Exercises and Business Applications\n",
    "\n",
    "Add in more tools - perhaps to simulate actually booking a flight. A student has done this and provided their example in the community contributions folder.\n",
    "\n",
    "Next: take this and apply it to your business. Make a multi-modal AI assistant with tools that could carry out an activity for your work. A customer support assistant? New employee onboarding assistant? So many possibilities! Also, see the week2 end of week Exercise in the separate Notebook."
   ]
  },
  {
   "cell_type": "markdown",
   "id": "7e795560-1867-42db-a256-a23b844e6fbe",
   "metadata": {},
   "source": [
    "<table style=\"margin: 0; text-align: left;\">\n",
    "    <tr>\n",
    "        <td style=\"width: 150px; height: 150px; vertical-align: middle;\">\n",
    "            <img src=\"../thankyou.jpg\" width=\"150\" height=\"150\" style=\"display: block;\" />\n",
    "        </td>\n",
    "        <td>\n",
    "            <h2 style=\"color:#090;\">I have a special request for you</h2>\n",
    "            <span style=\"color:#090;\">\n",
    "                My editor tells me that it makes a HUGE difference when students rate this course on Udemy - it's one of the main ways that Udemy decides whether to show it to others. If you're able to take a minute to rate this, I'd be so very grateful! And regardless - always please reach out to me at ed@edwarddonner.com if I can help at any point.\n",
    "            </span>\n",
    "        </td>\n",
    "    </tr>\n",
    "</table>"
   ]
  }
 ],
 "metadata": {
  "kernelspec": {
   "display_name": "Python 3 (ipykernel)",
   "language": "python",
   "name": "python3"
  },
  "language_info": {
   "codemirror_mode": {
    "name": "ipython",
    "version": 3
   },
   "file_extension": ".py",
   "mimetype": "text/x-python",
   "name": "python",
   "nbconvert_exporter": "python",
   "pygments_lexer": "ipython3",
   "version": "3.11.13"
  }
 },
 "nbformat": 4,
 "nbformat_minor": 5
}
